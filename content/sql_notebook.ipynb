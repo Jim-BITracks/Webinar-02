{
    "metadata": {
        "kernelspec": {
            "name": "SQL",
            "display_name": "SQL",
            "language": "sql"
        },
        "language_info": {
            "name": "sql",
            "version": ""
        }
    },
    "nbformat_minor": 2,
    "nbformat": 4,
    "cells": [
        {
            "cell_type": "markdown",
            "source": [
                "![](resources\\sql.png)\r\n",
                "\r\n",
                "# SQL Notebook\r\n",
                "\r\n",
                "- Uses the SQL Kernel\r\n",
                "- Can run code cells individually, or *All* code cells in Notebook\r\n",
                "    - Highlighting a portion of a Code cell for execution is **not** supported\r\n",
                "- Code cells cannot directly reference each other\r\n",
                "    - Declared variables are scoped to individual cells\r\n",
                "- Most recent results are stored in the notebook\r\n",
                "    - Beware of very large result sets\r\n",
                "    - Results can be cleared for a single cell, or entire Notebook\r\n",
                "\r\n",
                ""
            ],
            "metadata": {
                "azdata_cell_guid": "d737a79e-73c7-4f13-bc41-6272e392ca90",
                "language": "markdown"
            }
        },
        {
            "cell_type": "markdown",
            "source": [
                "## Retrieve All Databases on Server"
            ],
            "metadata": {
                "azdata_cell_guid": "d4a7b2f4-657c-4463-919b-2d4043232074"
            }
        },
        {
            "cell_type": "code",
            "source": [
                "with fs\r\n",
                "as\r\n",
                "(\r\n",
                "    select database_id, type, size * 8.0 / 1024 size\r\n",
                "    from sys.master_files\r\n",
                ")\r\n",
                "select\r\n",
                "    name AS [Database Name],\r\n",
                "    (select CAST(sum(size) AS INT) from fs where type = 0 and fs.database_id = db.database_id) [Data File Size (MB)]\r\n",
                "from sys.databases db"
            ],
            "metadata": {
                "azdata_cell_guid": "588e07eb-9ad2-47f8-8446-bc76cee5e69e",
                "tags": []
            },
            "outputs": [],
            "execution_count": null
        },
        {
            "cell_type": "markdown",
            "source": [
                "## Retrieve Column Information"
            ],
            "metadata": {
                "azdata_cell_guid": "5f9d43c8-535e-482d-9e73-edc7dbabf3bf"
            }
        },
        {
            "cell_type": "code",
            "source": [
                "SELECT * FROM INFORMATION_SCHEMA.COLUMNS"
            ],
            "metadata": {
                "azdata_cell_guid": "cfeb80eb-18e4-40fa-98aa-41511b00ff9b",
                "tags": []
            },
            "outputs": [],
            "execution_count": null
        },
        {
            "cell_type": "markdown",
            "source": [
                "## Snippet Example"
            ],
            "metadata": {
                "azdata_cell_guid": "4f64cbed-0b6c-4c65-9018-5c7395426dd5"
            }
        },
        {
            "cell_type": "code",
            "source": [
                "-- cursor\r\n",
                ""
            ],
            "metadata": {
                "azdata_cell_guid": "1e114580-31d9-4a8a-bd88-9732cd978a48",
                "tags": []
            },
            "outputs": [],
            "execution_count": null
        }
    ]
}