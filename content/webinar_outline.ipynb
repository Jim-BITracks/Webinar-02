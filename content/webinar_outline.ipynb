{
    "metadata": {
        "kernelspec": {
            "name": "SQL",
            "display_name": "SQL",
            "language": "sql"
        },
        "language_info": {
            "name": "sql",
            "version": ""
        }
    },
    "nbformat_minor": 2,
    "nbformat": 4,
    "cells": [
        {
            "cell_type": "markdown",
            "source": [
                "![](resources\\small_logo.png)\n",
                "\n",
                "# Webinar Series for Notebooks - The Basics\n",
                "\n",
                "## 03 December 2020\n",
                "\n",
                "![](resources\\azure_data_studio_small.png)\n",
                "\n",
                "\n",
                "# Today's Topics\n",
                "\n",
                "- Kernel Options\n",
                "    - SQL\n",
                "    - Python 3\n",
                "    - PowerShell\n",
                "    - Not covered today (PySpark, Spark | Scala, Spark | R)\n",
                "- Primary Cell Types\n",
                "    - Text (Markdown)\n",
                "    - Code (One Kernel per Notebook)\n",
                "- Code Result Sets\n",
                "    - Analytic Options\n",
                "    - Exporting\n",
                "    - Sharing\n",
                "\n",
                "# Benefits when using Notebooks\n",
                "\n",
                "- Rich Comments (includes links & images), Source Code, and Results all packaged in a single file (.ipynb -vs- .sql)\n",
                "    - Last run Results are automatically retained in your .ipynb file\n",
                "- Notebook files can be combined with Readme and Yaml files to construct a Book (sometimes referred to as a Juypter Notebook)\n",
                "- Notebooks are saved as pure json files\n",
                "    - Any json editor could be used to create or maintain a Notebook\n",
                "    - Any program which outputs a json file could probably auto-create a Notebook\n",
                "- Can be fully integrated with Github providing\n",
                "    - Source Control\n",
                "    - Solution Sharing\n",
                "    - Collaboration with other Developers\n",
                "\n",
                "# Review of Notebook Solution\n",
                "\n",
                "- Notebook View\n",
                "- File System View\n",
                "- Tree View\n",
                "\n",
                "Run in the Terminal Window:\n",
                "```\n",
                "tree . /f\n",
                "```"
            ],
            "metadata": {
                "azdata_cell_guid": "d737a79e-73c7-4f13-bc41-6272e392ca90",
                "language": "markdown"
            }
        }
    ]
}